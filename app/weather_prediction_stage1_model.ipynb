{
 "cells": [
  {
   "cell_type": "code",
   "execution_count": 1,
   "id": "99bfa681",
   "metadata": {},
   "outputs": [],
   "source": [
    "import os\n",
    "import pandas as pd\n",
    "import numpy as np\n",
    "from sklearn.preprocessing import OneHotEncoder\n",
    "from sklearn.preprocessing import OneHotEncoder\n",
    "from sklearn.ensemble import RandomForestRegressor\n",
    "from sklearn.multioutput import MultiOutputRegressor\n",
    "from sklearn.metrics import mean_squared_error, r2_score\n",
    "from sklearn.model_selection import train_test_split\n",
    "import joblib"
   ]
  },
  {
   "cell_type": "code",
   "execution_count": 2,
   "id": "94a19b69",
   "metadata": {},
   "outputs": [],
   "source": [
    "df = pd.read_csv(\"data/German_Major_Cities_Hamburg_Berlin_Munich_Colonge_Frankfurt_weather_report_2020_to_2025.csv\")\n",
    "# print(df[ [\n",
    "#     'tempmax', 'tempmin', 'feelslikemax', 'feelslikemin', 'dew',\n",
    "#     'precipprob', 'precipcover', 'snow', 'snowdepth', 'windgust',\n",
    "#     'winddir', 'cloudcover', 'visibility', 'solarradiation',\n",
    "#     'solarenergy', 'uvindex'\n",
    "# ]].describe())"
   ]
  },
  {
   "cell_type": "code",
   "execution_count": 3,
   "id": "601724da",
   "metadata": {},
   "outputs": [
    {
     "name": "stdout",
     "output_type": "stream",
     "text": [
      "Stage 1 Model MSE: 754.6615\n",
      "Stage 1 Model R²: 0.6324\n"
     ]
    },
    {
     "data": {
      "text/plain": [
       "['models/stage1_city_encoder.pkl']"
      ]
     },
     "execution_count": 3,
     "metadata": {},
     "output_type": "execute_result"
    }
   ],
   "source": [
    "df = df.rename(columns={'name': 'city'})\n",
    "\n",
    "# Keep necessary columns\n",
    "target_columns = [\n",
    "    'tempmax', 'tempmin', 'feelslikemax', 'feelslikemin', 'dew',\n",
    "    'precipprob', 'precipcover', 'snow', 'snowdepth', 'windgust',\n",
    "    'winddir', 'cloudcover', 'solarradiation',\n",
    "    'solarenergy', 'uvindex'\n",
    "]\n",
    "df = df[['city', 'datetime'] + target_columns].dropna()\n",
    "\n",
    "# Convert datetime and extract cyclical features\n",
    "df['datetime'] = pd.to_datetime(df['datetime'])\n",
    "df['year'] = df['datetime'].dt.year\n",
    "df['month'] = df['datetime'].dt.month\n",
    "df['dayofyear'] = df['datetime'].dt.dayofyear\n",
    "df['sin_dayofyear'] = np.sin(2 * np.pi * df['dayofyear'] / 365)\n",
    "df['cos_dayofyear'] = np.cos(2 * np.pi * df['dayofyear'] / 365)\n",
    "\n",
    "# One-hot encode city\n",
    "city_encoder = OneHotEncoder(sparse_output=False, handle_unknown='ignore')\n",
    "city_encoded = city_encoder.fit_transform(df[['city']])\n",
    "city_encoded_df = pd.DataFrame(city_encoded, columns=city_encoder.get_feature_names_out(['city']))\n",
    "\n",
    "# Final feature set (only city and date-based features)\n",
    "X = pd.concat([city_encoded_df, df[['year','month','sin_dayofyear', 'cos_dayofyear']]], axis=1)\n",
    "y = df[target_columns]\n",
    "\n",
    "# Train/test split\n",
    "X_train, X_test, y_train, y_test = train_test_split(X, y, test_size=0.2, random_state=42)\n",
    "\n",
    "# Train MultiOutputRegressor with RandomForest\n",
    "model = MultiOutputRegressor(RandomForestRegressor(n_estimators=100, random_state=42))\n",
    "model.fit(X_train, y_train)\n",
    "\n",
    "# Evaluate\n",
    "y_pred = model.predict(X_test)\n",
    "mse = mean_squared_error(y_test, y_pred)\n",
    "r2 = r2_score(y_test, y_pred)\n",
    "\n",
    "print(f\"Stage 1 Model MSE: {mse:.4f}\")\n",
    "print(f\"Stage 1 Model R²: {r2:.4f}\")\n",
    "\n",
    "os.makedirs(\"models\", exist_ok=True)\n",
    "\n",
    "# Save model and encoder\n",
    "joblib.dump(model, \"models/stage1_model.pkl\")\n",
    "joblib.dump(city_encoder, \"models/stage1_city_encoder.pkl\") # city_encoder_stage1"
   ]
  },
  {
   "cell_type": "code",
   "execution_count": null,
   "id": "04355489",
   "metadata": {},
   "outputs": [],
   "source": []
  },
  {
   "cell_type": "code",
   "execution_count": null,
   "id": "237d25a1",
   "metadata": {},
   "outputs": [],
   "source": []
  }
 ],
 "metadata": {
  "kernelspec": {
   "display_name": "venv",
   "language": "python",
   "name": "python3"
  },
  "language_info": {
   "codemirror_mode": {
    "name": "ipython",
    "version": 3
   },
   "file_extension": ".py",
   "mimetype": "text/x-python",
   "name": "python",
   "nbconvert_exporter": "python",
   "pygments_lexer": "ipython3",
   "version": "3.10.16"
  }
 },
 "nbformat": 4,
 "nbformat_minor": 5
}
